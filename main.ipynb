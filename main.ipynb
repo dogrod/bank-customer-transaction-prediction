{
 "cells": [
  {
   "cell_type": "markdown",
   "metadata": {},
   "source": [
    "# Bank Customer Transaction Prediction\n",
    "\n",
    "- Dataset: https://www.kaggle.com/c/santander-value-prediction-challenge/data\n",
    "\n",
    "## 1. Load libs and data"
   ]
  },
  {
   "cell_type": "code",
   "execution_count": 11,
   "metadata": {},
   "outputs": [],
   "source": [
    "# Importing the libraries\n",
    "import numpy as np\n",
    "import matplotlib.pyplot as plt\n",
    "import pandas as pd"
   ]
  },
  {
   "cell_type": "code",
   "execution_count": 12,
   "metadata": {},
   "outputs": [],
   "source": [
    "# Importing the dataset\n",
    "train = pd.read_csv('./datasets/train.csv')\n",
    "test = pd.read_csv('./datasets/test.csv')"
   ]
  },
  {
   "cell_type": "markdown",
   "metadata": {},
   "source": [
    "## 2. Overview\n",
    "\n",
    "### Training Set"
   ]
  },
  {
   "cell_type": "code",
   "execution_count": 13,
   "metadata": {},
   "outputs": [
    {
     "name": "stdout",
     "output_type": "stream",
     "text": [
      "             target     48df886f9     0deb4b6a8     34b15f335     a8cb14b00  \\\n",
      "count  4.459000e+03  4.459000e+03  4.459000e+03  4.459000e+03  4.459000e+03   \n",
      "mean   5.944923e+06  1.465493e+04  1.390895e+03  2.672245e+04  4.530164e+03   \n",
      "std    8.234312e+06  3.893298e+05  6.428302e+04  5.699652e+05  2.359124e+05   \n",
      "min    3.000000e+04  0.000000e+00  0.000000e+00  0.000000e+00  0.000000e+00   \n",
      "25%    6.000000e+05  0.000000e+00  0.000000e+00  0.000000e+00  0.000000e+00   \n",
      "50%    2.260000e+06  0.000000e+00  0.000000e+00  0.000000e+00  0.000000e+00   \n",
      "75%    8.000000e+06  0.000000e+00  0.000000e+00  0.000000e+00  0.000000e+00   \n",
      "max    4.000000e+07  2.000000e+07  4.000000e+06  2.000000e+07  1.480000e+07   \n",
      "\n",
      "          2f0771a37     30347e683     d08d1fbe3     6ee66e115     20aa07010  \\\n",
      "count  4.459000e+03  4.459000e+03  4.459000e+03  4.459000e+03  4.459000e+03   \n",
      "mean   2.640996e+04  3.070811e+04  1.686522e+04  4.669208e+03  2.569407e+06   \n",
      "std    1.514730e+06  5.770590e+05  7.512756e+05  1.879449e+05  9.610183e+06   \n",
      "min    0.000000e+00  0.000000e+00  0.000000e+00  0.000000e+00  0.000000e+00   \n",
      "25%    0.000000e+00  0.000000e+00  0.000000e+00  0.000000e+00  0.000000e+00   \n",
      "50%    0.000000e+00  0.000000e+00  0.000000e+00  0.000000e+00  0.000000e+00   \n",
      "75%    0.000000e+00  0.000000e+00  0.000000e+00  0.000000e+00  6.000000e+05   \n",
      "max    1.000000e+08  2.070800e+07  4.000000e+07  1.040000e+07  3.196120e+08   \n",
      "\n",
      "       ...     3ecc09859     9281abeea     8675bec0b     3a13ed79a  \\\n",
      "count  ...  4.459000e+03  4.459000e+03  4.459000e+03  4.459000e+03   \n",
      "mean   ...  4.676057e+05  4.446239e+05  8.056219e+05  7.812966e+05   \n",
      "std    ...  4.068038e+06  4.428889e+06  4.513246e+06  6.839451e+06   \n",
      "min    ...  0.000000e+00  0.000000e+00  0.000000e+00  0.000000e+00   \n",
      "25%    ...  0.000000e+00  0.000000e+00  0.000000e+00  0.000000e+00   \n",
      "50%    ...  0.000000e+00  0.000000e+00  0.000000e+00  0.000000e+00   \n",
      "75%    ...  0.000000e+00  0.000000e+00  0.000000e+00  0.000000e+00   \n",
      "max    ...  7.600000e+07  1.235880e+08  1.300000e+08  1.444000e+08   \n",
      "\n",
      "           f677d4d13     71b203550     137efaa80     fb36b89d9     7e293fbaf  \\\n",
      "count    4459.000000  4.459000e+03  4.459000e+03  4.459000e+03  4.459000e+03   \n",
      "mean      143.529939  1.213809e+05  3.573451e+04  3.123741e+05  9.219960e+04   \n",
      "std      9584.318507  4.720709e+06  1.614622e+06  4.318501e+06  1.635993e+06   \n",
      "min         0.000000  0.000000e+00  0.000000e+00  0.000000e+00  0.000000e+00   \n",
      "25%         0.000000  0.000000e+00  0.000000e+00  0.000000e+00  0.000000e+00   \n",
      "50%         0.000000  0.000000e+00  0.000000e+00  0.000000e+00  0.000000e+00   \n",
      "75%         0.000000  0.000000e+00  0.000000e+00  0.000000e+00  0.000000e+00   \n",
      "max    640000.000000  3.013120e+08  1.064200e+08  1.400000e+08  6.176800e+07   \n",
      "\n",
      "          9fc776466  \n",
      "count  4.459000e+03  \n",
      "mean   2.279100e+05  \n",
      "std    1.811139e+06  \n",
      "min    0.000000e+00  \n",
      "25%    0.000000e+00  \n",
      "50%    0.000000e+00  \n",
      "75%    0.000000e+00  \n",
      "max    4.320000e+07  \n",
      "\n",
      "[8 rows x 4992 columns]\n",
      "          ID      target  48df886f9  0deb4b6a8  34b15f335  a8cb14b00  \\\n",
      "0  000d6aaf2  38000000.0        0.0          0        0.0          0   \n",
      "1  000fbd867    600000.0        0.0          0        0.0          0   \n",
      "2  0027d6b71  10000000.0        0.0          0        0.0          0   \n",
      "3  0028cbf45   2000000.0        0.0          0        0.0          0   \n",
      "4  002a68644  14400000.0        0.0          0        0.0          0   \n",
      "\n",
      "   2f0771a37  30347e683  d08d1fbe3  6ee66e115  ...  3ecc09859  9281abeea  \\\n",
      "0          0          0          0          0  ...        0.0        0.0   \n",
      "1          0          0          0          0  ...        0.0        0.0   \n",
      "2          0          0          0          0  ...        0.0        0.0   \n",
      "3          0          0          0          0  ...        0.0        0.0   \n",
      "4          0          0          0          0  ...        0.0        0.0   \n",
      "\n",
      "   8675bec0b  3a13ed79a  f677d4d13  71b203550  137efaa80  fb36b89d9  \\\n",
      "0        0.0          0          0          0          0          0   \n",
      "1        0.0          0          0          0          0          0   \n",
      "2        0.0          0          0          0          0          0   \n",
      "3        0.0          0          0          0          0          0   \n",
      "4        0.0          0          0          0          0          0   \n",
      "\n",
      "   7e293fbaf  9fc776466  \n",
      "0          0          0  \n",
      "1          0          0  \n",
      "2          0          0  \n",
      "3          0          0  \n",
      "4          0          0  \n",
      "\n",
      "[5 rows x 4993 columns]\n",
      "ID           0\n",
      "target       0\n",
      "48df886f9    0\n",
      "0deb4b6a8    0\n",
      "34b15f335    0\n",
      "            ..\n",
      "71b203550    0\n",
      "137efaa80    0\n",
      "fb36b89d9    0\n",
      "7e293fbaf    0\n",
      "9fc776466    0\n",
      "Length: 4993, dtype: int64\n"
     ]
    }
   ],
   "source": [
    "# Describe data\n",
    "print(train.describe())\n",
    "# Check first 5 rows\n",
    "print(train.head())\n",
    "# Check for missing values\n",
    "print(train.isnull().sum())"
   ]
  },
  {
   "cell_type": "markdown",
   "metadata": {},
   "source": [
    "### Test Set"
   ]
  },
  {
   "cell_type": "code",
   "execution_count": 14,
   "metadata": {},
   "outputs": [
    {
     "name": "stdout",
     "output_type": "stream",
     "text": [
      "          48df886f9     0deb4b6a8     34b15f335     a8cb14b00     2f0771a37  \\\n",
      "count  4.934200e+04  4.934200e+04  4.934200e+04  4.934200e+04  4.934200e+04   \n",
      "mean   5.773787e+04  6.258726e+04  1.036752e+05  6.289853e+04  6.713354e+04   \n",
      "std    1.745182e+06  2.322787e+06  2.586951e+06  2.765941e+06  3.206124e+06   \n",
      "min    0.000000e+00  0.000000e+00  0.000000e+00  0.000000e+00  0.000000e+00   \n",
      "25%    0.000000e+00  0.000000e+00  0.000000e+00  0.000000e+00  0.000000e+00   \n",
      "50%    0.000000e+00  0.000000e+00  0.000000e+00  0.000000e+00  0.000000e+00   \n",
      "75%    0.000000e+00  0.000000e+00  0.000000e+00  0.000000e+00  0.000000e+00   \n",
      "max    1.504447e+08  2.283295e+08  2.758171e+08  3.972621e+08  4.667591e+08   \n",
      "\n",
      "          30347e683     d08d1fbe3     6ee66e115     20aa07010     dc5a8f1d8  \\\n",
      "count  4.934200e+04  4.934200e+04  4.934200e+04  4.934200e+04  4.934200e+04   \n",
      "mean   8.083879e+04  6.181014e+04  5.515752e+04  1.406324e+06  8.128668e+04   \n",
      "std    2.845031e+06  2.780137e+06  1.923517e+06  6.872366e+06  2.378938e+06   \n",
      "min    0.000000e+00  0.000000e+00  0.000000e+00  0.000000e+00  0.000000e+00   \n",
      "25%    0.000000e+00  0.000000e+00  0.000000e+00  0.000000e+00  0.000000e+00   \n",
      "50%    0.000000e+00  0.000000e+00  0.000000e+00  0.000000e+00  0.000000e+00   \n",
      "75%    0.000000e+00  0.000000e+00  0.000000e+00  0.000000e+00  0.000000e+00   \n",
      "max    2.852223e+08  4.863751e+08  2.043290e+08  3.435658e+08  2.310167e+08   \n",
      "\n",
      "       ...     3ecc09859     9281abeea     8675bec0b     3a13ed79a  \\\n",
      "count  ...  4.934200e+04  4.934200e+04  4.934200e+04  4.934200e+04   \n",
      "mean   ...  1.193910e+05  1.355955e+05  3.242217e+05  1.437856e+05   \n",
      "std    ...  3.115190e+06  2.598454e+06  3.782996e+06  3.663374e+06   \n",
      "min    ...  0.000000e+00  0.000000e+00  0.000000e+00  0.000000e+00   \n",
      "25%    ...  0.000000e+00  0.000000e+00  0.000000e+00  0.000000e+00   \n",
      "50%    ...  0.000000e+00  0.000000e+00  0.000000e+00  0.000000e+00   \n",
      "75%    ...  0.000000e+00  0.000000e+00  0.000000e+00  0.000000e+00   \n",
      "max    ...  5.351692e+08  1.236547e+08  3.793398e+08  4.025480e+08   \n",
      "\n",
      "          f677d4d13     71b203550     137efaa80     fb36b89d9     7e293fbaf  \\\n",
      "count  4.934200e+04  4.934200e+04  4.934200e+04  4.934200e+04  4.934200e+04   \n",
      "mean   9.302367e+04  8.047145e+04  6.076865e+04  1.323210e+05  1.675766e+05   \n",
      "std    5.041000e+06  2.100210e+06  2.040655e+06  3.592018e+06  3.761816e+06   \n",
      "min    0.000000e+00  0.000000e+00  0.000000e+00  0.000000e+00  0.000000e+00   \n",
      "25%    0.000000e+00  0.000000e+00  0.000000e+00  0.000000e+00  0.000000e+00   \n",
      "50%    0.000000e+00  0.000000e+00  0.000000e+00  0.000000e+00  0.000000e+00   \n",
      "75%    0.000000e+00  0.000000e+00  0.000000e+00  0.000000e+00  0.000000e+00   \n",
      "max    9.657530e+08  1.680065e+08  2.497913e+08  3.200000e+08  3.186300e+08   \n",
      "\n",
      "          9fc776466  \n",
      "count  4.934200e+04  \n",
      "mean   1.282487e+05  \n",
      "std    2.413798e+06  \n",
      "min    0.000000e+00  \n",
      "25%    0.000000e+00  \n",
      "50%    0.000000e+00  \n",
      "75%    0.000000e+00  \n",
      "max    2.189782e+08  \n",
      "\n",
      "[8 rows x 4991 columns]\n",
      "          ID  48df886f9  0deb4b6a8  34b15f335  a8cb14b00  2f0771a37  \\\n",
      "0  000137c73        0.0        0.0        0.0        0.0        0.0   \n",
      "1  00021489f        0.0        0.0        0.0        0.0        0.0   \n",
      "2  0004d7953        0.0        0.0        0.0        0.0        0.0   \n",
      "3  00056a333        0.0        0.0        0.0        0.0        0.0   \n",
      "4  00056d8eb        0.0        0.0        0.0        0.0        0.0   \n",
      "\n",
      "   30347e683  d08d1fbe3  6ee66e115  20aa07010  ...  3ecc09859  9281abeea  \\\n",
      "0        0.0        0.0        0.0        0.0  ...        0.0        0.0   \n",
      "1        0.0        0.0        0.0        0.0  ...        0.0        0.0   \n",
      "2        0.0        0.0        0.0        0.0  ...        0.0        0.0   \n",
      "3        0.0        0.0        0.0        0.0  ...        0.0        0.0   \n",
      "4        0.0        0.0        0.0        0.0  ...        0.0        0.0   \n",
      "\n",
      "   8675bec0b  3a13ed79a  f677d4d13  71b203550  137efaa80  fb36b89d9  \\\n",
      "0        0.0        0.0        0.0        0.0        0.0        0.0   \n",
      "1        0.0        0.0        0.0        0.0        0.0        0.0   \n",
      "2        0.0        0.0        0.0        0.0        0.0        0.0   \n",
      "3        0.0        0.0        0.0        0.0        0.0        0.0   \n",
      "4        0.0        0.0        0.0        0.0        0.0        0.0   \n",
      "\n",
      "   7e293fbaf  9fc776466  \n",
      "0        0.0        0.0  \n",
      "1        0.0        0.0  \n",
      "2        0.0        0.0  \n",
      "3        0.0        0.0  \n",
      "4        0.0        0.0  \n",
      "\n",
      "[5 rows x 4992 columns]\n",
      "ID           0\n",
      "48df886f9    0\n",
      "0deb4b6a8    0\n",
      "34b15f335    0\n",
      "a8cb14b00    0\n",
      "            ..\n",
      "71b203550    0\n",
      "137efaa80    0\n",
      "fb36b89d9    0\n",
      "7e293fbaf    0\n",
      "9fc776466    0\n",
      "Length: 4992, dtype: int64\n"
     ]
    }
   ],
   "source": [
    "# Describe data\n",
    "print(test.describe())\n",
    "# Check first 5 rows\n",
    "print(test.head())\n",
    "# Check for missing values\n",
    "print(test.isnull().sum())"
   ]
  },
  {
   "cell_type": "markdown",
   "metadata": {},
   "source": [
    "## 3. Feature Visualization"
   ]
  },
  {
   "cell_type": "code",
   "execution_count": 15,
   "metadata": {},
   "outputs": [],
   "source": [
    "# Visualize features to define the key features"
   ]
  },
  {
   "cell_type": "markdown",
   "metadata": {},
   "source": [
    "## 4. Feature Engineering"
   ]
  },
  {
   "cell_type": "code",
   "execution_count": null,
   "metadata": {},
   "outputs": [],
   "source": [
    "# Handle constant features\n",
    "\n",
    "# Handle duplicate features\n",
    "\n",
    "# Feature construction if needed"
   ]
  },
  {
   "cell_type": "markdown",
   "metadata": {},
   "source": [
    "## 5. Build Model"
   ]
  },
  {
   "cell_type": "code",
   "execution_count": null,
   "metadata": {},
   "outputs": [],
   "source": [
    "# XGBoost is suggested for this dataset"
   ]
  },
  {
   "cell_type": "markdown",
   "metadata": {},
   "source": [
    "## 6. Test Model"
   ]
  },
  {
   "cell_type": "markdown",
   "metadata": {},
   "source": [
    "## 7. Key Metrics and Conclusion"
   ]
  },
  {
   "cell_type": "code",
   "execution_count": null,
   "metadata": {},
   "outputs": [],
   "source": [
    "# Key metrics to evaluate the model\n",
    "# For XGBRegressor, we can use RMSE, MAE, R2"
   ]
  },
  {
   "cell_type": "markdown",
   "metadata": {},
   "source": []
  }
 ],
 "metadata": {
  "kernelspec": {
   "display_name": ".venv",
   "language": "python",
   "name": "python3"
  },
  "language_info": {
   "codemirror_mode": {
    "name": "ipython",
    "version": 3
   },
   "file_extension": ".py",
   "mimetype": "text/x-python",
   "name": "python",
   "nbconvert_exporter": "python",
   "pygments_lexer": "ipython3",
   "version": "3.9.6"
  }
 },
 "nbformat": 4,
 "nbformat_minor": 2
}
